{
 "cells": [
  {
   "cell_type": "markdown",
   "metadata": {},
   "source": [
    "# Building a Neural Network from Scratch!\n",
    "(Built on the fundamental math behind Machine Learning. NOT just 10 lines of Tensorflow, as much fun as that is.)<br>\n",
    "Credits: MIT PhD candidate Dr. Raj Dandekar's notes<br><br>\n",
    "Code written by me, images taken directly from his notes.<br>\n",
    "<hr>"
   ]
  },
  {
   "cell_type": "markdown",
   "metadata": {},
   "source": [
    "<h2>Part 1</h2>"
   ]
  },
  {
   "cell_type": "markdown",
   "metadata": {},
   "source": [
    "<h3> First neuron </h3>\n",
    "<img src=\"images/1.1.png\">"
   ]
  },
  {
   "cell_type": "code",
   "execution_count": 71,
   "metadata": {},
   "outputs": [
    {
     "name": "stdout",
     "output_type": "stream",
     "text": [
      "Output: 2.3\n"
     ]
    }
   ],
   "source": [
    "inputs = [1, 2, 3]\n",
    "weights = [0.2, 0.8, -0.5]\n",
    "bias = 2\n",
    "\n",
    "output = (inputs[0]*weights[0]) + (inputs[1]*weights[1]) + (inputs[2]*weights[2]) + bias\n",
    "\n",
    "print(\"Output: \" + str(output))\n",
    "# The ultimate goal is to come up with the RIGHT weights for each calculation (neuron)\n",
    "# And then, structure them in the right way (network of neurons)."
   ]
  },
  {
   "cell_type": "markdown",
   "metadata": {},
   "source": [
    "<h3>First <u>Layer</u> of Neurons</h3>\n",
    "<img src=\"images/1.2.png\">"
   ]
  },
  {
   "cell_type": "code",
   "execution_count": 72,
   "metadata": {},
   "outputs": [],
   "source": [
    "# Set up\n",
    "inputs = [1, 2, 3]\n",
    "weights = [[0.2, 0.8, -0.5],\n",
    "           [0.5, -0.91, 0.26],\n",
    "           [-0.26, -0.27, 0.17],\n",
    "           ]\n",
    "biases = [2, 3, 0.5]"
   ]
  },
  {
   "cell_type": "code",
   "execution_count": 73,
   "metadata": {},
   "outputs": [
    {
     "name": "stdout",
     "output_type": "stream",
     "text": [
      "Outputs: [2.3, 2.46, 0.20999999999999996]\n"
     ]
    }
   ],
   "source": [
    "# Hard coded, WITHOUT loops, just to understand the concept\n",
    "weights1 = weights[0]\n",
    "weights2 = weights[1]\n",
    "weights3 = weights[2]\n",
    "\n",
    "outputs = [\n",
    "    (inputs[0]*weights1[0] + inputs[1]*weights1[1] + inputs[2]*weights1[2] + biases[0]), # neuron 1\n",
    "    (inputs[0]*weights2[0] + inputs[1]*weights2[1] + inputs[2]*weights2[2] + biases[1]), # neuron 2\n",
    "    (inputs[0]*weights3[0] + inputs[1]*weights3[1] + inputs[2]*weights3[2] + biases[2]), # neuron 3\n",
    "]\n",
    "\n",
    "print(\"Outputs: \" + str(outputs))"
   ]
  },
  {
   "cell_type": "code",
   "execution_count": 74,
   "metadata": {},
   "outputs": [
    {
     "name": "stdout",
     "output_type": "stream",
     "text": [
      "Outputs: [2.3000000000000003, 2.46, 0.20999999999999996]\n"
     ]
    }
   ],
   "source": [
    "# WITH a loop, for actual use (any number of neurons, layers, inputs, etc.)\n",
    "\n",
    "outputs = []\n",
    "for neuron_weights, neuron_bias in zip(weights, biases): \n",
    "    # zip() allows parallel looping, to access items in different lists, ideally of the same size\n",
    "    output = neuron_bias\n",
    "    \n",
    "    for input, weight in zip(inputs, neuron_weights):\n",
    "        output += input*weight\n",
    "    \n",
    "    outputs.append(output)\n",
    "\n",
    "print(\"Outputs: \" + str(outputs))"
   ]
  },
  {
   "cell_type": "markdown",
   "metadata": {},
   "source": [
    "<hr>\n",
    "<h2> Part 2 </h2>\n"
   ]
  },
  {
   "cell_type": "markdown",
   "metadata": {},
   "source": [
    "<h3>Single neuron <u>with np.dot</u></h3>"
   ]
  },
  {
   "cell_type": "code",
   "execution_count": 75,
   "metadata": {},
   "outputs": [
    {
     "ename": "AttributeError",
     "evalue": "'list' object has no attribute 'astype'",
     "output_type": "error",
     "traceback": [
      "\u001b[0;31m---------------------------------------------------------------------------\u001b[0m",
      "\u001b[0;31mAttributeError\u001b[0m                            Traceback (most recent call last)",
      "Cell \u001b[0;32mIn[75], line 7\u001b[0m\n\u001b[1;32m      4\u001b[0m weights \u001b[38;5;241m=\u001b[39m [\u001b[38;5;241m0.2\u001b[39m, \u001b[38;5;241m0.8\u001b[39m, \u001b[38;5;241m-\u001b[39m\u001b[38;5;241m0.5\u001b[39m]\n\u001b[1;32m      5\u001b[0m bias \u001b[38;5;241m=\u001b[39m \u001b[38;5;241m2\u001b[39m\n\u001b[0;32m----> 7\u001b[0m output \u001b[38;5;241m=\u001b[39m \u001b[43mnp\u001b[49m\u001b[38;5;241;43m.\u001b[39;49m\u001b[43mdot\u001b[49m\u001b[43m(\u001b[49m\u001b[43minputs\u001b[49m\u001b[43m,\u001b[49m\u001b[43m \u001b[49m\u001b[43mweights\u001b[49m\u001b[43m)\u001b[49m \u001b[38;5;241m+\u001b[39m bias\n\u001b[1;32m      8\u001b[0m \u001b[38;5;28mprint\u001b[39m(\u001b[38;5;124m\"\u001b[39m\u001b[38;5;124mOutput: \u001b[39m\u001b[38;5;124m\"\u001b[39m \u001b[38;5;241m+\u001b[39m \u001b[38;5;28mstr\u001b[39m(output))\n",
      "File \u001b[0;32m/opt/homebrew/lib/python3.11/site-packages/nnfs/core.py:22\u001b[0m, in \u001b[0;36minit.<locals>.dot\u001b[0;34m(*args, **kwargs)\u001b[0m\n\u001b[1;32m     21\u001b[0m \u001b[38;5;28;01mdef\u001b[39;00m \u001b[38;5;21mdot\u001b[39m(\u001b[38;5;241m*\u001b[39margs, \u001b[38;5;241m*\u001b[39m\u001b[38;5;241m*\u001b[39mkwargs):\n\u001b[0;32m---> 22\u001b[0m     \u001b[38;5;28;01mreturn\u001b[39;00m orig_dot(\u001b[38;5;241m*\u001b[39m\u001b[43m[\u001b[49m\u001b[43ma\u001b[49m\u001b[38;5;241;43m.\u001b[39;49m\u001b[43mastype\u001b[49m\u001b[43m(\u001b[49m\u001b[38;5;124;43m'\u001b[39;49m\u001b[38;5;124;43mfloat64\u001b[39;49m\u001b[38;5;124;43m'\u001b[39;49m\u001b[43m)\u001b[49m\u001b[43m \u001b[49m\u001b[38;5;28;43;01mfor\u001b[39;49;00m\u001b[43m \u001b[49m\u001b[43ma\u001b[49m\u001b[43m \u001b[49m\u001b[38;5;129;43;01min\u001b[39;49;00m\u001b[43m \u001b[49m\u001b[43margs\u001b[49m\u001b[43m]\u001b[49m, \u001b[38;5;241m*\u001b[39m\u001b[38;5;241m*\u001b[39mkwargs)\u001b[38;5;241m.\u001b[39mastype(\u001b[38;5;124m'\u001b[39m\u001b[38;5;124mfloat32\u001b[39m\u001b[38;5;124m'\u001b[39m)\n",
      "File \u001b[0;32m/opt/homebrew/lib/python3.11/site-packages/nnfs/core.py:22\u001b[0m, in \u001b[0;36m<listcomp>\u001b[0;34m(.0)\u001b[0m\n\u001b[1;32m     21\u001b[0m \u001b[38;5;28;01mdef\u001b[39;00m \u001b[38;5;21mdot\u001b[39m(\u001b[38;5;241m*\u001b[39margs, \u001b[38;5;241m*\u001b[39m\u001b[38;5;241m*\u001b[39mkwargs):\n\u001b[0;32m---> 22\u001b[0m     \u001b[38;5;28;01mreturn\u001b[39;00m orig_dot(\u001b[38;5;241m*\u001b[39m[\u001b[43ma\u001b[49m\u001b[38;5;241;43m.\u001b[39;49m\u001b[43mastype\u001b[49m(\u001b[38;5;124m'\u001b[39m\u001b[38;5;124mfloat64\u001b[39m\u001b[38;5;124m'\u001b[39m) \u001b[38;5;28;01mfor\u001b[39;00m a \u001b[38;5;129;01min\u001b[39;00m args], \u001b[38;5;241m*\u001b[39m\u001b[38;5;241m*\u001b[39mkwargs)\u001b[38;5;241m.\u001b[39mastype(\u001b[38;5;124m'\u001b[39m\u001b[38;5;124mfloat32\u001b[39m\u001b[38;5;124m'\u001b[39m)\n",
      "\u001b[0;31mAttributeError\u001b[0m: 'list' object has no attribute 'astype'"
     ]
    }
   ],
   "source": [
    "import numpy as np\n",
    "\n",
    "inputs = [1, 2, 3]\n",
    "weights = [0.2, 0.8, -0.5]\n",
    "bias = 2\n",
    "\n",
    "output = np.dot(inputs, weights) + bias\n",
    "print(\"Output: \" + str(output))"
   ]
  },
  {
   "cell_type": "markdown",
   "metadata": {},
   "source": [
    "<h3>Entire layer <u>with np.dot</u></h3>\n",
    "\n",
    "Using Matrix-Vector multiplication!\n",
    "\n",
    "<img src=\"images/2.1.png\" width=\"600px\">"
   ]
  },
  {
   "cell_type": "code",
   "execution_count": 6,
   "metadata": {},
   "outputs": [
    {
     "name": "stdout",
     "output_type": "stream",
     "text": [
      "Outputs: [2.3  2.46 0.21]\n"
     ]
    }
   ],
   "source": [
    "# Set up (same as part 1)\n",
    "inputs = [1, 2, 3]\n",
    "weights = [[0.2, 0.8, -0.5],\n",
    "           [0.5, -0.91, 0.26],\n",
    "           [-0.26, -0.27, 0.17],\n",
    "            ]\n",
    "biases = [2, 3, 0.5]\n",
    "\n",
    "outputs = np.dot(weights, inputs) + biases # Each row of weights is multiplied by inputs column, exactly how weights are used \n",
    "print(\"Outputs: \" + str(outputs))\n",
    "\n",
    "# ENTIRE code in part 1 with a loop, is replaced by just ONE line!! SO COOL."
   ]
  },
  {
   "cell_type": "markdown",
   "metadata": {},
   "source": [
    "<h3>Complete batch of data <u>with np.dot</u></h3>\n",
    "\n",
    "With matrix-matrix multiplication\n",
    "\n",
    "<img src=\"images/2.2.png\" width=\"500px\" height=\"255.5px\" style=\"margin-right:10px\"><img src=\"images/2.3.png\" width=\"500px\">\n",
    "<br><br>\n",
    "<h3><i>But what is a batch?</i></h3>\n",
    "One batch is the equivalent of one data point, with multiple characteristics.<br>\n",
    "For example, if predicting house prices, one \"batch\" = 1 house.<br>\n",
    "In this case, each house then has 4 characteristics for it (ex: no. of bedrooms, bathrooms, land area, neighourhood avg price)"
   ]
  },
  {
   "cell_type": "code",
   "execution_count": 7,
   "metadata": {},
   "outputs": [
    {
     "name": "stdout",
     "output_type": "stream",
     "text": [
      "Outputs: \n",
      "[[ 4.8    1.21   2.385]\n",
      " [ 8.9   -1.81   0.2  ]\n",
      " [ 1.41   1.051  0.026]]\n"
     ]
    }
   ],
   "source": [
    "# each row represents the inputs for one specific neuron\n",
    "inputs = [[1, 2, 3, 2.5], \n",
    "          [2, 5, -1, 2],\n",
    "          [-1.5, 2.7, 3.3, -0.8]]\n",
    "\n",
    "\n",
    "# Each row represents the weights for one specific neuron... \n",
    "# Later transposed to make sense in sync with how matrix multiplication works - \n",
    "# - each row of matrix A multiplied with each COLUMN of matrix B\n",
    "weights = [[0.2, 0.8, -0.5, 1], \n",
    "           [0.5, -0.91, 0.26, -0.5],\n",
    "           [-0.26, -0.27, 0.17, 0.87]]\n",
    "\n",
    "biases = [2, 3, 0.5]\n",
    "\n",
    "weights = np.array(weights) # np.dot doesnt take lists, so must convert to array\n",
    "\n",
    "outputs = np.dot(inputs, weights.T) + biases # The bias just adds the number to every item in that column.\n",
    "\n",
    "print(\"Outputs: \\n\" + str(outputs))\n"
   ]
  },
  {
   "cell_type": "markdown",
   "metadata": {},
   "source": [
    "<hr>\n",
    "<h2>Part 3</h2>\n",
    "Creating and connecting layers to each other.<br>\n",
    "The input layer sends 3 data points (batches), with 4 features each.\n",
    "The output layer gives a single number output for each input data point (batch).\n",
    "\n",
    "For example,<br>\n",
    "If we were <b>predicting house prices</b>, in this case, we'd be passing 3 different houses as input...<br>\n",
    "<b><i>Each house's input =></i></b> Its 4 features - #bedrooms, #bathrooms, square footage, avg house price in locality (as examples)<br>\n",
    "<b><i>Each house's output =></i></b> Predicted price for the house.\n",
    "\n",
    "Future Goal: Right now, the weights and biases are all manually+randomly set. Our neural network would actually be functional when they are set based on training data. The trained model would be something like what's given below, with final weights and biases. Then, we'd be able to send new houses as input, and we'd actually get their predicted prices."
   ]
  },
  {
   "cell_type": "markdown",
   "metadata": {},
   "source": [
    "<h3> Input Layer + 2 hidden layers of neurons </h3>\n",
    "<img src=\"images/3.1.png\" width=\"300px\">"
   ]
  },
  {
   "cell_type": "code",
   "execution_count": 8,
   "metadata": {},
   "outputs": [
    {
     "name": "stdout",
     "output_type": "stream",
     "text": [
      "Outputs:\n",
      "[[ 0.5031  -1.04185 -2.03875]\n",
      " [ 0.2434  -2.7332  -5.7633 ]\n",
      " [-0.99314  1.41254 -0.35655]]\n"
     ]
    }
   ],
   "source": [
    "import matplotlib.pyplot as plt\n",
    "## Input Layer\n",
    "inputs = [[1, 2, 3, 2.5], #3x4 matrix\n",
    "          [2, 5, -1, 2],\n",
    "          [-1.5, 2.7, 3.3, -0.8]]\n",
    "\n",
    "## HIDDEN LAYER 1 => 3 neurons, with 4 weights (equal to number of inputs) and 1 bias each. \n",
    "weights1 = [[0.2, 0.8, -0.5, 1],  #3x4 matrix\n",
    "           [0.5, -0.91, 0.26, -0.5],\n",
    "           [-0.26, -0.27, 0.17, 0.87]]\n",
    "\n",
    "biases1 = [2, 3, 0.5]\n",
    "\n",
    "## HIDDEN LAYER 2 => 3 neurons, with 3 weights (now its 3 because inputs are only 3, taken from previous hidden layer) and 1 bias each.\n",
    "weights2 = [[0.1, -0.14, 0.5], #3x3 matrix\n",
    "           [-0.5, 0.12, -0.33],\n",
    "           [-0.44, 0.73, -0.13]]\n",
    "\n",
    "biases2 = [-1, 2, -0.5]\n",
    "##########################################################\n",
    "\n",
    "weights1 = np.array(weights1)\n",
    "weights2 = np.array(weights2)\n",
    "\n",
    "layer1output = np.dot(inputs, weights1.T) + biases1 # dot product of 3x4 and 4x3 matrices = 3x3 matrix\n",
    "\n",
    "# layer1output is then passed as INPUT to the 2nd hidden layer, which then gives its output.\n",
    "layer2output = np.dot(layer1output, weights2.T) + biases2 # dot product of 3x3 and 3x3 matrices = 3x3 matrix\n",
    "\n",
    "print(\"Outputs:\\n\" + str(layer2output)) # Each row is the output for one batch of data..."
   ]
  },
  {
   "cell_type": "markdown",
   "metadata": {},
   "source": [
    "<h3>Adding final (output) layer</h3>"
   ]
  },
  {
   "cell_type": "code",
   "execution_count": 9,
   "metadata": {},
   "outputs": [],
   "source": [
    "# Creating final layer with just 1 neuron, so we get a single number as output for each batch of data\n",
    "\n",
    "weights3 = [[0.2, 0.3, 0.4]]\n",
    "bias = [0.5]\n",
    "\n",
    "weights3 = np.array(weights3)\n",
    "\n",
    "layer3output = np.dot(layer2output, weights3.T) + bias"
   ]
  },
  {
   "cell_type": "markdown",
   "metadata": {},
   "source": [
    "<h3>Input layer (4 input neurons) -> Hidden layer 1 (3 neurons) -> Hidden layer 2 (3 neurons) -> Output layer (1 output neuron)</h3>"
   ]
  },
  {
   "cell_type": "code",
   "execution_count": 10,
   "metadata": {},
   "outputs": [
    {
     "name": "stdout",
     "output_type": "stream",
     "text": [
      "Single value output for each input batch:\n",
      "[[-0.527435]\n",
      " [-2.5766  ]\n",
      " [ 0.582514]]\n"
     ]
    }
   ],
   "source": [
    "print(\"Single value output for each input batch:\\n\" + str(layer3output))"
   ]
  },
  {
   "cell_type": "markdown",
   "metadata": {},
   "source": [
    "<hr>\n",
    "<h2>Part 4</h2>"
   ]
  },
  {
   "cell_type": "markdown",
   "metadata": {},
   "source": [
    "<h3>Generating random data</h3>\n",
    "Till now, all input data was created by manually typing out 2d Lists / matrices. Also, we had linear data. <br>\n",
    "Neural networks are trained so they can tackle non-linear data (linear can be solved with just regression anyways).<br>\n",
    "\n",
    "Now we'll start (non-linear) input data for our experimentation using the nnfs (Neural Networks from Scratch) package."
   ]
  },
  {
   "cell_type": "code",
   "execution_count": 14,
   "metadata": {},
   "outputs": [
    {
     "data": {
      "text/plain": [
       "[]"
      ]
     },
     "execution_count": 14,
     "metadata": {},
     "output_type": "execute_result"
    },
    {
     "data": {
      "image/png": "[encoded data removed]",
      "text/plain": [
       "<Figure size 640x480 with 1 Axes>"
      ]
     },
     "metadata": {},
     "output_type": "display_data"
    }
   ],
   "source": [
    "from nnfs.datasets import spiral_data\n",
    "import numpy as np\n",
    "import nnfs\n",
    "import matplotlib.pyplot as plt\n",
    "\n",
    "# Getting data from nnfs.. 10 data points with 2 just features (x and y) each (so its easy to display in 2d... previous manual input data couldnt be represented like this since it had 4 features).\n",
    "X, cf = spiral_data(samples=100, classes=3) # X is a 100x2 matrix with the x and y features. cf is a 1d array with the classification (0, 1, or 2) of each data point.\n",
    "\n",
    "\n",
    "# Creating a scatterplot with matplotlib\n",
    "# Values passed - \n",
    "# 1) All x coordinate values, All row values in 0th column => X[:,0]\n",
    "# 2) all y coordinate values, All row values in index 1 column => X[:,1]\n",
    "# 3) classifications to be used for coloring the data points => c=cf\n",
    "# 4) cmap is to edit colors... specific options available (another is is \"brg\" for RGB values) => cmap=\"gist_rainbow\"\n",
    "\n",
    "plt.scatter(X[:,0], X[:,1], c=cf, cmap=\"brg\")\n",
    "plt.plot()\n",
    "\n"
   ]
  },
  {
   "cell_type": "markdown",
   "metadata": {},
   "source": [
    "<h3>\"Dense Layer\" Class</h3>\n",
    "Creating a set class to be able to create layers based on - # neurons and # inputs(for that layer)<br>\n",
    "<br>\n",
    "<i>\n",
    "<b>Note:Switching from matrix dimensions Neurons*Inputs to Inputs*Neurons</b><br>\n",
    "Till now, each row represented the weights of a single neuron. Now each column will be the weights of one neuron, and the number of columns = number of inputs. (Earlier we would convert to this using transpose)<br>\n",
    "So, if layer(3 neurons, 4 inputs/features), then 4x3 matrix (earlier it was 3x4).\n",
    "</i>\n"
   ]
  },
  {
   "cell_type": "code",
   "execution_count": 70,
   "metadata": {},
   "outputs": [
    {
     "name": "stdout",
     "output_type": "stream",
     "text": [
      "(100, 2)\n",
      "(100, 3)\n",
      "\n",
      "\n",
      "[[ 0.          0.          0.        ]\n",
      " [ 0.00014992 -0.00015354  0.00014944]\n",
      " [ 0.00039343 -0.00035618  0.00013883]\n",
      " [ 0.00060759 -0.00045617 -0.00029437]\n",
      " [ 0.00083074 -0.00063927 -0.00031815]]\n"
     ]
    }
   ],
   "source": [
    "import numpy as np\n",
    "import nnfs\n",
    "from nnfs.datasets import spiral_data\n",
    "nnfs.init()\n",
    "\n",
    "class Layer_Dense:\n",
    "    def __init__(self, num_inputs, num_neurons): #Creates the weights and biases matrix that make up the layer\n",
    "        self.weights = np.random.randn(num_inputs, num_neurons) #Creates matrix with random weights for now - from 0 to 1 (using Gaussian distribution)\n",
    "        self.weights *= 0.01 #Keeping weights quite small for now\n",
    "        self.biases = np.zeros((1, num_neurons)) #Column of zero biases for now\n",
    "    \n",
    "    def forward(self, inputs): #Return the actual output, after passing input through the created layer\n",
    "        self.output = np.dot(inputs, self.weights) + self.biases # Similar to previous manual implementation (except dimension change as mentioned in title \"note\")\n",
    "\n",
    "\n",
    "### Using the Dense Layer class created!\n",
    "\n",
    "X, y = spiral_data(samples = 100, classes = 1)\n",
    "\n",
    "\n",
    "dense1 = Layer_Dense(2, 3) # 2 features in spiral data, NOT 100 because number of data points / batches doesnt matter, number of features does... 3 neuron layer, output will have 3 features.\n",
    "dense1.forward(X)\n",
    "\n",
    "print(X.shape)\n",
    "print(dense1.output.shape)\n",
    "\n",
    "print(\"\\n\")\n",
    "print(dense1.output[:5])\n"
   ]
  },
  {
   "cell_type": "markdown",
   "metadata": {},
   "source": [
    "<hr>\n",
    "<h2>Part 5</h2>\n",
    "Notes for future usage of functions"
   ]
  },
  {
   "cell_type": "markdown",
   "metadata": {},
   "source": [
    "<h3>np.sum() Array Summation</h3>\n",
    "\n",
    "Take a matrix A\n",
    "<ul>\n",
    "<li>np.sum(A) => Outputs single value with sum of all values in A (axis=none by default)\n",
    "<li>np.sum(A, axis=0) => Outputs a 1d array that sums the rows (all the vertical numbers are summed), resulting in a single row... Axis=1 leads to summing the columns, resulting in a single column (but it'll still be converted to 1d array, so like a row, unless keepdims=true)\n",
    "<li>np.sum(A, axis=0, keepdims=true) => \"Keep dimensions\" => The output remains a 2d array, even though it's just a single row/column...\n",
    "\n",
    "\n"
   ]
  },
  {
   "cell_type": "markdown",
   "metadata": {},
   "source": [
    "<h3>Broadcasting</h3>\n",
    "\n",
    "If both matrices are same size, they can be added anyways!<br>\n",
    "But if some dimension is 1 or just doesnt exist, i.e its a row/column vector, the row/column just gets duplicated to increase the match the dimensions of the other matrix automatically when you sum them.<br>\n",
    "\n",
    "<img src=\"images/5.1.png\" width=\"300px\" style=\"margin-right:10px\"><img src=\"images/5.2.png\" width=\"823px\">\n",
    "\n",
    "<i style=\"margin-left:315px\">(Above image shows importance of keepdims atrribute in np.sum/np.max/etc.^^^^)</i>\n"
   ]
  }
 ],
 "metadata": {
  "kernelspec": {
   "display_name": "Python 3",
   "language": "python",
   "name": "python3"
  },
  "language_info": {
   "codemirror_mode": {
    "name": "ipython",
    "version": 3
   },
   "file_extension": ".py",
   "mimetype": "text/x-python",
   "name": "python",
   "nbconvert_exporter": "python",
   "pygments_lexer": "ipython3",
   "version": "3.11.7"
  }
 },
 "nbformat": 4,
 "nbformat_minor": 2
}
