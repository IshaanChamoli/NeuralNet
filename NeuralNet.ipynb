{
 "cells": [
  {
   "cell_type": "markdown",
   "metadata": {},
   "source": [
    "# Building a Neural Network from Scratch!\n",
    "(Built on the fundamental math behind Deep Learning. NOT just 10 lines of Tensorflow, as much fun as that is.)<br><br>\n",
    "Credits: MIT PhD candidate Dr. Raj Dandekar<br>\n",
    "Code written by me, images taken directly from his notes.<br>\n",
    "<hr>"
   ]
  },
  {
   "cell_type": "markdown",
   "metadata": {},
   "source": [
    "<h2>Part 1</h2>"
   ]
  },
  {
   "cell_type": "markdown",
   "metadata": {},
   "source": [
    "<h3> First neuron </h3>\n",
    "<img src=\"images/1.1.png\">"
   ]
  },
  {
   "cell_type": "code",
   "execution_count": 53,
   "metadata": {},
   "outputs": [
    {
     "name": "stdout",
     "output_type": "stream",
     "text": [
      "Output: 2.3\n"
     ]
    }
   ],
   "source": [
    "inputs = [1, 2, 3]\n",
    "weights = [0.2, 0.8, -0.5]\n",
    "bias = 2\n",
    "\n",
    "output = (inputs[0]*weights[0]) + (inputs[1]*weights[1]) + (inputs[2]*weights[2]) + bias\n",
    "\n",
    "print(\"Output: \" + str(output))\n",
    "# The ultimate goal is to come up with the RIGHT weights for each calculation (neuron)\n",
    "# And then, structure them in the right way (network of neurons)."
   ]
  },
  {
   "cell_type": "markdown",
   "metadata": {},
   "source": [
    "<h3>First <u>Layer</u> of Neurons</h3>\n",
    "<img src=\"images/1.2.png\">"
   ]
  },
  {
   "cell_type": "code",
   "execution_count": 54,
   "metadata": {},
   "outputs": [],
   "source": [
    "# Set up\n",
    "inputs = [1, 2, 3]\n",
    "weights = [[0.2, 0.8, -0.5],\n",
    "           [0.5, -0.91, 0.26],\n",
    "           [-0.26, -0.27, 0.17],\n",
    "           ]\n",
    "biases = [2, 3, 0.5]"
   ]
  },
  {
   "cell_type": "code",
   "execution_count": 55,
   "metadata": {},
   "outputs": [
    {
     "name": "stdout",
     "output_type": "stream",
     "text": [
      "Outputs: [2.3, 2.46, 0.20999999999999996]\n"
     ]
    }
   ],
   "source": [
    "# Hard coded, WITHOUT loops, just to understand the concept\n",
    "weights1 = weights[0]\n",
    "weights2 = weights[1]\n",
    "weights3 = weights[2]\n",
    "\n",
    "outputs = [\n",
    "    (inputs[0]*weights1[0] + inputs[1]*weights1[1] + inputs[2]*weights1[2] + biases[0]), # neuron 1\n",
    "    (inputs[0]*weights2[0] + inputs[1]*weights2[1] + inputs[2]*weights2[2] + biases[1]), # neuron 2\n",
    "    (inputs[0]*weights3[0] + inputs[1]*weights3[1] + inputs[2]*weights3[2] + biases[2]), # neuron 3\n",
    "]\n",
    "\n",
    "print(\"Outputs: \" + str(outputs))"
   ]
  },
  {
   "cell_type": "code",
   "execution_count": 56,
   "metadata": {},
   "outputs": [
    {
     "name": "stdout",
     "output_type": "stream",
     "text": [
      "Outputs: [2.3000000000000003, 2.46, 0.20999999999999996]\n"
     ]
    }
   ],
   "source": [
    "# WITH a loop, for actual use (any number of neurons, layers, inputs, etc.)\n",
    "\n",
    "outputs = []\n",
    "for neuron_weights, neuron_bias in zip(weights, biases): \n",
    "    # zip() allows parallel looping, to access items in different lists, ideally of the same size\n",
    "    output = neuron_bias\n",
    "    \n",
    "    for input, weight in zip(inputs, neuron_weights):\n",
    "        output += input*weight\n",
    "    \n",
    "    outputs.append(output)\n",
    "\n",
    "print(\"Outputs: \" + str(outputs))"
   ]
  },
  {
   "cell_type": "markdown",
   "metadata": {},
   "source": [
    "<hr>\n",
    "<h2> Part 2 </h2>\n"
   ]
  },
  {
   "cell_type": "markdown",
   "metadata": {},
   "source": [
    "<h3>Single neuron <u>with np.dot</u></h3>"
   ]
  },
  {
   "cell_type": "code",
   "execution_count": 57,
   "metadata": {},
   "outputs": [
    {
     "ename": "AttributeError",
     "evalue": "'list' object has no attribute 'astype'",
     "output_type": "error",
     "traceback": [
      "\u001b[0;31m---------------------------------------------------------------------------\u001b[0m",
      "\u001b[0;31mAttributeError\u001b[0m                            Traceback (most recent call last)",
      "Cell \u001b[0;32mIn[57], line 7\u001b[0m\n\u001b[1;32m      4\u001b[0m weights \u001b[38;5;241m=\u001b[39m [\u001b[38;5;241m0.2\u001b[39m, \u001b[38;5;241m0.8\u001b[39m, \u001b[38;5;241m-\u001b[39m\u001b[38;5;241m0.5\u001b[39m]\n\u001b[1;32m      5\u001b[0m bias \u001b[38;5;241m=\u001b[39m \u001b[38;5;241m2\u001b[39m\n\u001b[0;32m----> 7\u001b[0m output \u001b[38;5;241m=\u001b[39m \u001b[43mnp\u001b[49m\u001b[38;5;241;43m.\u001b[39;49m\u001b[43mdot\u001b[49m\u001b[43m(\u001b[49m\u001b[43minputs\u001b[49m\u001b[43m,\u001b[49m\u001b[43m \u001b[49m\u001b[43mweights\u001b[49m\u001b[43m)\u001b[49m \u001b[38;5;241m+\u001b[39m bias\n\u001b[1;32m      8\u001b[0m \u001b[38;5;28mprint\u001b[39m(\u001b[38;5;124m\"\u001b[39m\u001b[38;5;124mOutput: \u001b[39m\u001b[38;5;124m\"\u001b[39m \u001b[38;5;241m+\u001b[39m \u001b[38;5;28mstr\u001b[39m(output))\n",
      "File \u001b[0;32m/opt/homebrew/lib/python3.11/site-packages/nnfs/core.py:22\u001b[0m, in \u001b[0;36minit.<locals>.dot\u001b[0;34m(*args, **kwargs)\u001b[0m\n\u001b[1;32m     21\u001b[0m \u001b[38;5;28;01mdef\u001b[39;00m \u001b[38;5;21mdot\u001b[39m(\u001b[38;5;241m*\u001b[39margs, \u001b[38;5;241m*\u001b[39m\u001b[38;5;241m*\u001b[39mkwargs):\n\u001b[0;32m---> 22\u001b[0m     \u001b[38;5;28;01mreturn\u001b[39;00m orig_dot(\u001b[38;5;241m*\u001b[39m\u001b[43m[\u001b[49m\u001b[43ma\u001b[49m\u001b[38;5;241;43m.\u001b[39;49m\u001b[43mastype\u001b[49m\u001b[43m(\u001b[49m\u001b[38;5;124;43m'\u001b[39;49m\u001b[38;5;124;43mfloat64\u001b[39;49m\u001b[38;5;124;43m'\u001b[39;49m\u001b[43m)\u001b[49m\u001b[43m \u001b[49m\u001b[38;5;28;43;01mfor\u001b[39;49;00m\u001b[43m \u001b[49m\u001b[43ma\u001b[49m\u001b[43m \u001b[49m\u001b[38;5;129;43;01min\u001b[39;49;00m\u001b[43m \u001b[49m\u001b[43margs\u001b[49m\u001b[43m]\u001b[49m, \u001b[38;5;241m*\u001b[39m\u001b[38;5;241m*\u001b[39mkwargs)\u001b[38;5;241m.\u001b[39mastype(\u001b[38;5;124m'\u001b[39m\u001b[38;5;124mfloat32\u001b[39m\u001b[38;5;124m'\u001b[39m)\n",
      "File \u001b[0;32m/opt/homebrew/lib/python3.11/site-packages/nnfs/core.py:22\u001b[0m, in \u001b[0;36m<listcomp>\u001b[0;34m(.0)\u001b[0m\n\u001b[1;32m     21\u001b[0m \u001b[38;5;28;01mdef\u001b[39;00m \u001b[38;5;21mdot\u001b[39m(\u001b[38;5;241m*\u001b[39margs, \u001b[38;5;241m*\u001b[39m\u001b[38;5;241m*\u001b[39mkwargs):\n\u001b[0;32m---> 22\u001b[0m     \u001b[38;5;28;01mreturn\u001b[39;00m orig_dot(\u001b[38;5;241m*\u001b[39m[\u001b[43ma\u001b[49m\u001b[38;5;241;43m.\u001b[39;49m\u001b[43mastype\u001b[49m(\u001b[38;5;124m'\u001b[39m\u001b[38;5;124mfloat64\u001b[39m\u001b[38;5;124m'\u001b[39m) \u001b[38;5;28;01mfor\u001b[39;00m a \u001b[38;5;129;01min\u001b[39;00m args], \u001b[38;5;241m*\u001b[39m\u001b[38;5;241m*\u001b[39mkwargs)\u001b[38;5;241m.\u001b[39mastype(\u001b[38;5;124m'\u001b[39m\u001b[38;5;124mfloat32\u001b[39m\u001b[38;5;124m'\u001b[39m)\n",
      "\u001b[0;31mAttributeError\u001b[0m: 'list' object has no attribute 'astype'"
     ]
    }
   ],
   "source": [
    "import numpy as np\n",
    "\n",
    "inputs = [1, 2, 3]\n",
    "weights = [0.2, 0.8, -0.5]\n",
    "bias = 2\n",
    "\n",
    "output = np.dot(inputs, weights) + bias\n",
    "print(\"Output: \" + str(output))"
   ]
  },
  {
   "cell_type": "markdown",
   "metadata": {},
   "source": [
    "<h3>Entire layer <u>with np.dot</u></h3>\n",
    "\n",
    "Using Matrix-Vector multiplication!\n",
    "\n",
    "<img src=\"images/2.1.png\" width=\"600px\">"
   ]
  },
  {
   "cell_type": "code",
   "execution_count": 7,
   "metadata": {},
   "outputs": [
    {
     "name": "stdout",
     "output_type": "stream",
     "text": [
      "Outputs: [2.3  2.46 0.21]\n"
     ]
    }
   ],
   "source": [
    "# Set up (same as part 1)\n",
    "inputs = [1, 2, 3]\n",
    "weights = [[0.2, 0.8, -0.5],\n",
    "           [0.5, -0.91, 0.26],\n",
    "           [-0.26, -0.27, 0.17],\n",
    "            ]\n",
    "biases = [2, 3, 0.5]\n",
    "\n",
    "outputs = np.dot(weights, inputs) + biases # Each row of weights is multiplied by inputs column, exactly how weights are used \n",
    "print(\"Outputs: \" + str(outputs))\n",
    "\n",
    "# ENTIRE code in part 1 with a loop, is replaced by just ONE line!! SO COOL."
   ]
  },
  {
   "cell_type": "markdown",
   "metadata": {},
   "source": [
    "<h3>Complete batch of data <u>with np.dot</u></h3>\n",
    "\n",
    "With matrix-matrix multiplication\n",
    "\n",
    "<img src=\"images/2.2.png\" width=\"500px\" height=\"255.5px\" style=\"margin-right:10px\"><img src=\"images/2.3.png\" width=\"500px\">\n",
    "<br><br>\n",
    "<h3><i>But what is a batch?</i></h3>\n",
    "One batch is the equivalent of one data point, with multiple characteristics.<br>\n",
    "For example, if predicting house prices, one \"batch\" = 1 house.<br>\n",
    "In this case, each house then has 4 characteristics for it (ex: no. of bedrooms, bathrooms, land area, neighourhood avg price)"
   ]
  },
  {
   "cell_type": "code",
   "execution_count": 8,
   "metadata": {},
   "outputs": [
    {
     "name": "stdout",
     "output_type": "stream",
     "text": [
      "Outputs: \n",
      "[[ 4.8    1.21   2.385]\n",
      " [ 8.9   -1.81   0.2  ]\n",
      " [ 1.41   1.051  0.026]]\n"
     ]
    }
   ],
   "source": [
    "# each row represents the inputs for one specific neuron\n",
    "inputs = [[1, 2, 3, 2.5], \n",
    "          [2, 5, -1, 2],\n",
    "          [-1.5, 2.7, 3.3, -0.8]]\n",
    "\n",
    "\n",
    "# Each row represents the weights for one specific neuron... \n",
    "# Later transposed to make sense in sync with how matrix multiplication works - \n",
    "# - each row of matrix A multiplied with each COLUMN of matrix B\n",
    "weights = [[0.2, 0.8, -0.5, 1], \n",
    "           [0.5, -0.91, 0.26, -0.5],\n",
    "           [-0.26, -0.27, 0.17, 0.87]]\n",
    "\n",
    "biases = [2, 3, 0.5]\n",
    "\n",
    "weights = np.array(weights) # np.dot doesnt take lists, so must convert to array\n",
    "\n",
    "outputs = np.dot(inputs, weights.T) + biases # The bias just adds the number to every item in that column.\n",
    "\n",
    "print(\"Outputs: \\n\" + str(outputs))\n"
   ]
  },
  {
   "cell_type": "markdown",
   "metadata": {},
   "source": [
    "<hr>\n",
    "<h2>Part 3</h2>\n",
    "Creating and connecting layers to each other.<br>\n",
    "The input layer sends 3 data points (batches), with 4 features each.\n",
    "The output layer gives a single number output for each input data point (batch).\n",
    "\n",
    "For example,<br>\n",
    "If we were <b>predicting house prices</b>, in this case, we'd be passing 3 different houses as input...<br>\n",
    "<b><i>Each house's input =></i></b> Its 4 features - #bedrooms, #bathrooms, square footage, avg house price in locality (as examples)<br>\n",
    "<b><i>Each house's output =></i></b> Predicted price for the house.\n",
    "\n",
    "Future Goal: Right now, the weights and biases are all manually+randomly set. Our neural network would actually be functional when they are set based on training data. The trained model would be something like what's given below, with final weights and biases. Then, we'd be able to send new houses as input, and we'd actually get their predicted prices."
   ]
  },
  {
   "cell_type": "markdown",
   "metadata": {},
   "source": [
    "<h3> Input Layer + 2 hidden layers of neurons </h3>\n",
    "<img src=\"images/3.1.png\" width=\"300px\">"
   ]
  },
  {
   "cell_type": "code",
   "execution_count": 9,
   "metadata": {},
   "outputs": [
    {
     "name": "stdout",
     "output_type": "stream",
     "text": [
      "Outputs:\n",
      "[[ 0.5031  -1.04185 -2.03875]\n",
      " [ 0.2434  -2.7332  -5.7633 ]\n",
      " [-0.99314  1.41254 -0.35655]]\n"
     ]
    }
   ],
   "source": [
    "import matplotlib.pyplot as plt\n",
    "## Input Layer\n",
    "inputs = [[1, 2, 3, 2.5], #3x4 matrix\n",
    "          [2, 5, -1, 2],\n",
    "          [-1.5, 2.7, 3.3, -0.8]]\n",
    "\n",
    "## HIDDEN LAYER 1 => 3 neurons, with 4 weights (equal to number of inputs) and 1 bias each. \n",
    "weights1 = [[0.2, 0.8, -0.5, 1],  #3x4 matrix\n",
    "           [0.5, -0.91, 0.26, -0.5],\n",
    "           [-0.26, -0.27, 0.17, 0.87]]\n",
    "\n",
    "biases1 = [2, 3, 0.5]\n",
    "\n",
    "## HIDDEN LAYER 2 => 3 neurons, with 3 weights (now its 3 because inputs are only 3, taken from previous hidden layer) and 1 bias each.\n",
    "weights2 = [[0.1, -0.14, 0.5], #3x3 matrix\n",
    "           [-0.5, 0.12, -0.33],\n",
    "           [-0.44, 0.73, -0.13]]\n",
    "\n",
    "biases2 = [-1, 2, -0.5]\n",
    "##########################################################\n",
    "\n",
    "weights1 = np.array(weights1)\n",
    "weights2 = np.array(weights2)\n",
    "\n",
    "layer1output = np.dot(inputs, weights1.T) + biases1 # dot product of 3x4 and 4x3 matrices = 3x3 matrix\n",
    "\n",
    "# layer1output is then passed as INPUT to the 2nd hidden layer, which then gives its output.\n",
    "layer2output = np.dot(layer1output, weights2.T) + biases2 # dot product of 3x3 and 3x3 matrices = 3x3 matrix\n",
    "\n",
    "print(\"Outputs:\\n\" + str(layer2output)) # Each row is the output for one batch of data..."
   ]
  },
  {
   "cell_type": "markdown",
   "metadata": {},
   "source": [
    "<h3>Adding final (output) layer</h3>"
   ]
  },
  {
   "cell_type": "code",
   "execution_count": 10,
   "metadata": {},
   "outputs": [],
   "source": [
    "# Creating final layer with just 1 neuron, so we get a single number as output for each batch of data\n",
    "\n",
    "weights3 = [[0.2, 0.3, 0.4]]\n",
    "bias = [0.5]\n",
    "\n",
    "weights3 = np.array(weights3)\n",
    "\n",
    "layer3output = np.dot(layer2output, weights3.T) + bias"
   ]
  },
  {
   "cell_type": "markdown",
   "metadata": {},
   "source": [
    "<h3>Input layer (4 input neurons) -> Hidden layer 1 (3 neurons) -> Hidden layer 2 (3 neurons) -> Output layer (1 output neuron)</h3>"
   ]
  },
  {
   "cell_type": "code",
   "execution_count": 11,
   "metadata": {},
   "outputs": [
    {
     "name": "stdout",
     "output_type": "stream",
     "text": [
      "Single value output for each input batch:\n",
      "[[-0.527435]\n",
      " [-2.5766  ]\n",
      " [ 0.582514]]\n"
     ]
    }
   ],
   "source": [
    "print(\"Single value output for each input batch:\\n\" + str(layer3output))"
   ]
  },
  {
   "cell_type": "markdown",
   "metadata": {},
   "source": [
    "<hr>\n",
    "<h2>Part 4</h2>"
   ]
  },
  {
   "cell_type": "markdown",
   "metadata": {},
   "source": [
    "<h3>Generating random data</h3>\n",
    "Till now, all input data was created by manually typing out 2d Lists / matrices. Also, we had linear data. <br>\n",
    "Neural networks are trained so they can tackle non-linear data (linear can be solved with just regression anyways).<br>\n",
    "\n",
    "Now we'll start (non-linear) input data for our experimentation using the nnfs (Neural Networks from Scratch) package."
   ]
  },
  {
   "cell_type": "code",
   "execution_count": 12,
   "metadata": {},
   "outputs": [
    {
     "data": {
      "text/plain": [
       "[]"
      ]
     },
     "execution_count": 12,
     "metadata": {},
     "output_type": "execute_result"
    },
    {
     "data": {
      "image/png": "[encoded data removed]",
      "text/plain": [
       "<Figure size 640x480 with 1 Axes>"
      ]
     },
     "metadata": {},
     "output_type": "display_data"
    }
   ],
   "source": [
    "from nnfs.datasets import spiral_data\n",
    "import numpy as np\n",
    "import nnfs\n",
    "import matplotlib.pyplot as plt\n",
    "\n",
    "# Getting data from nnfs.. 10 data points with 2 just features (x and y) each (so its easy to display in 2d... previous manual input data couldnt be represented like this since it had 4 features).\n",
    "X, cf = spiral_data(samples=100, classes=3) # X is a 100x2 matrix with the x and y features. cf is a 1d array with the classification (0, 1, or 2) of each data point.\n",
    "\n",
    "\n",
    "# Creating a scatterplot with matplotlib\n",
    "# Values passed - \n",
    "# 1) All x coordinate values, All row values in 0th column => X[:,0]\n",
    "# 2) all y coordinate values, All row values in index 1 column => X[:,1]\n",
    "# 3) classifications to be used for coloring the data points => c=cf\n",
    "# 4) cmap is to edit colors... specific options available (another is is \"brg\" for RGB values) => cmap=\"gist_rainbow\"\n",
    "\n",
    "plt.scatter(X[:,0], X[:,1], c=cf, cmap=\"brg\")\n",
    "plt.plot()\n",
    "\n"
   ]
  },
  {
   "cell_type": "markdown",
   "metadata": {},
   "source": [
    "<h3>\"Dense Layer\" Class</h3>\n",
    "Creating a set class to be able to create layers based on - # neurons and # inputs(for that layer)<br>\n",
    "<br>\n",
    "<i>\n",
    "<b>Note:Switching from matrix dimensions Neurons*Inputs to Inputs*Neurons</b><br>\n",
    "Till now, each row represented the weights of a single neuron. Now each column will be the weights of one neuron, and the number of columns = number of inputs. (Earlier we would convert to this using transpose)<br>\n",
    "So, if layer(3 neurons, 4 inputs/features), then 4x3 matrix (earlier it was 3x4).\n",
    "</i>\n"
   ]
  },
  {
   "cell_type": "code",
   "execution_count": 13,
   "metadata": {},
   "outputs": [
    {
     "name": "stdout",
     "output_type": "stream",
     "text": [
      "(100, 2)\n",
      "(100, 3)\n",
      "\n",
      "\n",
      "[[ 0.          0.          0.        ]\n",
      " [ 0.00014992 -0.00015354  0.00014944]\n",
      " [ 0.00039343 -0.00035618  0.00013883]\n",
      " [ 0.00060759 -0.00045617 -0.00029437]\n",
      " [ 0.00083074 -0.00063927 -0.00031815]]\n"
     ]
    }
   ],
   "source": [
    "import numpy as np\n",
    "import nnfs\n",
    "from nnfs.datasets import spiral_data\n",
    "nnfs.init()\n",
    "\n",
    "class Layer_Dense:\n",
    "    def __init__(self, num_inputs, num_neurons): #Creates the weights and biases matrix that make up the layer\n",
    "        self.weights = np.random.randn(num_inputs, num_neurons) #Creates matrix with random weights for now - from 0 to 1 (using Gaussian distribution)\n",
    "        self.weights *= 0.01 #Keeping weights quite small for now\n",
    "        self.biases = np.zeros((1, num_neurons)) #Column of zero biases for now\n",
    "    \n",
    "    def forward(self, inputs): #Return the actual output, after passing input through the created layer\n",
    "        self.output = np.dot(inputs, self.weights) + self.biases # Similar to previous manual implementation (except dimension change as mentioned in title \"note\")\n",
    "\n",
    "\n",
    "### Using the Dense Layer class created!\n",
    "\n",
    "X, y = spiral_data(samples = 100, classes = 1)\n",
    "\n",
    "\n",
    "dense1 = Layer_Dense(2, 3) # 2 features in spiral data, NOT 100 because number of data points / batches doesnt matter, number of features does... 3 neuron layer, output will have 3 features.\n",
    "dense1.forward(X)\n",
    "\n",
    "print(X.shape)\n",
    "print(dense1.output.shape)\n",
    "\n",
    "print(\"\\n\")\n",
    "print(dense1.output[:5])\n"
   ]
  },
  {
   "cell_type": "markdown",
   "metadata": {},
   "source": [
    "<hr>\n",
    "<h2>Part 5</h2>\n",
    "Notes for future usage of functions"
   ]
  },
  {
   "cell_type": "markdown",
   "metadata": {},
   "source": [
    "<h3>np.sum() Array Summation</h3>\n",
    "\n",
    "Take a matrix A\n",
    "<ul>\n",
    "<li>np.sum(A) => Outputs single value with sum of all values in A (axis=none by default)\n",
    "<li>np.sum(A, axis=0) => Outputs a 1d array that sums the rows (all the vertical numbers are summed), resulting in a single row... Axis=1 leads to summing the columns, resulting in a single column (but it'll still be converted to 1d array, so like a row, unless keepdims=true)\n",
    "<li>np.sum(A, axis=0, keepdims=true) => \"Keep dimensions\" => The output remains a 2d array, even though it's just a single row/column...\n",
    "\n",
    "\n"
   ]
  },
  {
   "cell_type": "markdown",
   "metadata": {},
   "source": [
    "<h3>Broadcasting</h3>\n",
    "\n",
    "If both matrices are same size, they can be added anyways!<br>\n",
    "But if some dimension is 1 or just doesnt exist, i.e its a row/column vector, the row/column just gets duplicated to increase the match the dimensions of the other matrix automatically when you sum them.<br>\n",
    "\n",
    "<img src=\"images/5.1.png\" width=\"300px\" style=\"margin-right:10px\"><img src=\"images/5.2.png\" width=\"823px\">\n",
    "\n",
    "<i style=\"margin-left:315px\">(Above image shows importance of keepdims atrribute in np.sum/np.max/etc.^^^^)</i>\n"
   ]
  },
  {
   "cell_type": "markdown",
   "metadata": {},
   "source": [
    "<hr>\n",
    "<h2>Part 6</h2>\n",
    "<h3>Activation Functions</h3>"
   ]
  },
  {
   "cell_type": "markdown",
   "metadata": {},
   "source": [
    "Inputs * Weights + Biases => This is a </u>linear</u> function that is run in every hidden layer. <br>\n",
    "If we only run linear functions on inputs, our outputs will always remain linear, regardless of how many layers we have!\n",
    "<br><br>\n",
    "To fit non-linear data, we add \"Activation Function\" Layers as well in between the hidden layers. These put the output x into some function f(x) and return that to the next layer.<br><br>\n",
    "<img src=\"images/6.1.png\" width=\"300px\">\n",
    "<img src=\"images/6.2.png\" width=\"500px\">"
   ]
  },
  {
   "cell_type": "markdown",
   "metadata": {},
   "source": [
    "<h3>ReLu Activation</h3>\n",
    "<b>f(x) = max(0, x)</b><br><br>\n",
    "This function simply copies x, but equals zero instead of letting x become negative."
   ]
  },
  {
   "cell_type": "code",
   "execution_count": 14,
   "metadata": {},
   "outputs": [
    {
     "name": "stdout",
     "output_type": "stream",
     "text": [
      "ReLu outputs: [0.  2.  0.  3.3 0.  1.1 2.2 0. ]\n"
     ]
    }
   ],
   "source": [
    "import numpy as np\n",
    "\n",
    "inputs = [0, 2, -1, 3.3, -2.7, 1.1, 2.2, -100]\n",
    "outputs = np.maximum(0, inputs) # ReLu function\n",
    "print(\"ReLu outputs: \" + str(outputs)) # 0 or +ve!"
   ]
  },
  {
   "cell_type": "code",
   "execution_count": 15,
   "metadata": {},
   "outputs": [],
   "source": [
    "# Creating ReLu activation as a python class\n",
    "class Activation_ReLu: # No need for any initialization, we dont need to keep any variable like weights, biases, etc... just a function!)\n",
    "    def forward(self, inputs):\n",
    "        self.output = np.maximum(0, inputs)"
   ]
  },
  {
   "cell_type": "markdown",
   "metadata": {},
   "source": [
    "<h3>SoftMax Activation</h3>\n",
    "\n",
    "Converts values into probabilities so each row sums to 1, so we can use them for classification... (Which class has highest probability!)<br><br>\n",
    "Each output value becomes: <b>e^input_value / e^sum_of_all_feature_input_values</b><br>\n",
    "\n",
    "<img src=\"images/6.3.png\" width=\"500px\">"
   ]
  },
  {
   "cell_type": "code",
   "execution_count": 16,
   "metadata": {},
   "outputs": [
    {
     "name": "stdout",
     "output_type": "stream",
     "text": [
      "[[0.06414769 0.17437149 0.47399085 0.28748998]\n",
      " [0.04517666 0.90739747 0.00224921 0.04517666]\n",
      " [0.00522984 0.34875873 0.63547983 0.0105316 ]]\n",
      "\n",
      "\n",
      "[[1.]\n",
      " [1.]\n",
      " [1.]]\n"
     ]
    }
   ],
   "source": [
    "inputs = [[1, 2, 3, 2.5],\n",
    "          [2, 5, -1, 2],\n",
    "          [-1.5, 2.7, 3.3, -0.8]\n",
    "          ]\n",
    "\n",
    "exp_values = np.exp(inputs) # Converting feature values to e^values\n",
    "outputs = exp_values / np.sum(exp_values, axis=1, keepdims=True) # SoftMax function\n",
    "\n",
    "print(outputs)\n",
    "print(\"\\n\")\n",
    "print(np.sum(outputs, axis=1, keepdims=True)) # Values in each row sum to 1, which means we're now successfully dealing with probabilities!\n",
    "\n"
   ]
  },
  {
   "cell_type": "markdown",
   "metadata": {},
   "source": [
    "<h3>Slight edit</h3>\n",
    "While the previous code explains all the theory of SoftMax, we make one edit in practical usage.<br>\n",
    "We first subtract each number with the largest number in that row (subtracting with largest feature value)... <br>\n",
    "This is simply to reduce the overall size of the numbers, which become quite big when using them as powers of e. Since all numbers are reduced the same way, it doesnt affect the overall probabilities.<br><br>\n",
    "<i>Technically, we can even just subtract a constant value from each number, but that's an issue because we dont know how big these numbers are. Using max values helps.. We can even take average in that sense, but max is best, since we're reducing as much as possible. Just taking the MAX_INT wouldnt work either, since then we might just end up with really large negative numbers to handle - equally useless</i>"
   ]
  },
  {
   "cell_type": "code",
   "execution_count": 17,
   "metadata": {},
   "outputs": [
    {
     "name": "stdout",
     "output_type": "stream",
     "text": [
      "[[0.06414769 0.17437149 0.47399085 0.28748998]\n",
      " [0.04517666 0.90739747 0.00224921 0.04517666]\n",
      " [0.00522984 0.34875873 0.63547983 0.0105316 ]]\n",
      "\n",
      "\n",
      "[[1.]\n",
      " [1.]\n",
      " [1.]]\n"
     ]
    }
   ],
   "source": [
    "# Implementation with the edit\n",
    "\n",
    "edited_inputs = inputs - np.max(inputs, axis=1, keepdims=True) # Subtracting with max value of the features (in each row)\n",
    "\n",
    "exp_values = np.exp(edited_inputs) # Converting feature values to e^values\n",
    "\n",
    "outputs = exp_values / np.sum(exp_values, axis=1, keepdims=True) # SoftMax function, e^value / e^sum_of_all_feature_values\n",
    "# Also! np.sum leads to a single column vector... the division is working because of Broadcasting!!!!! The column gets copied along horizontally. That's also why we need keepdims.\n",
    "\n",
    "print(outputs)\n",
    "print(\"\\n\")\n",
    "print(np.sum(outputs, axis=1, keepdims=True)) # Values in each row sum to 1, which means we're now successfully dealing with probabilities!\n",
    "# Output remains the same, but calculations use smaller numbers, which makes the system more reliable! (Has to do with how the numbers are stored in bytes and can overflow if very large... Going too deep now, really dont want to discuss comp architecture lol)"
   ]
  },
  {
   "cell_type": "code",
   "execution_count": 18,
   "metadata": {},
   "outputs": [],
   "source": [
    "# Creating Softmax activation as a python class\n",
    "\n",
    "class Activation_SoftMax:\n",
    "    def forward(self, inputs): # Working taken from and explained above!\n",
    "        edited_inputs = inputs - np.max(inputs, axis=1, keepdims=True)\n",
    "        exp_values = np.exp(edited_inputs)\n",
    "        self.output = exp_values / np.sum(exp_values, axis=1, keepdims=True)"
   ]
  },
  {
   "cell_type": "markdown",
   "metadata": {},
   "source": [
    "<hr>\n",
    "<h2>Part 7</h2>\n"
   ]
  },
  {
   "cell_type": "markdown",
   "metadata": {},
   "source": [
    "<h3>Passing data through multiple dense and activation layers (Forward pass)</h3>\n",
    "<img src=\"images/7.1.png\" width=\"459px\" style=\"margin-right:10px\">\n",
    "<img src=\"images/7.2.png\" width=\"500px\"><br>\n",
    "<i style=\"font-size:12px\">*Technically, activation functions arent considered layers, but this makes the explanation and visual understanding much easier.</i>"
   ]
  },
  {
   "cell_type": "code",
   "execution_count": 19,
   "metadata": {},
   "outputs": [
    {
     "name": "stdout",
     "output_type": "stream",
     "text": [
      "Inputs (coordinates): \n",
      "[[-0.          0.        ]\n",
      " [-0.0027207   0.0097277 ]\n",
      " [ 0.01854933  0.00800275]\n",
      " [ 0.02618375  0.015254  ]\n",
      " [ 0.03931247  0.00932827]]\n",
      "\n",
      "\n",
      "Outputs (probability of the color): \n",
      "[[0.33333334 0.33333334 0.33333334]\n",
      " [0.33333337 0.33333343 0.33333322]\n",
      " [0.33333313 0.3333332  0.33333367]\n",
      " [0.33333313 0.33333322 0.3333336 ]\n",
      " [0.33333275 0.3333328  0.33333442]]\n"
     ]
    }
   ],
   "source": [
    "# Create inputs\n",
    "X, y = spiral_data(samples=100, classes=3)\n",
    "\n",
    "print(\"Inputs (coordinates): \")\n",
    "print(X[:5]) # Input! (First 5 rows)\n",
    "# Gives x and y coordinate values as features for each data point, and the output is the color/classification of the data point (3 classes = 3 colors)\n",
    "print(\"\\n\")\n",
    "\n",
    "# Create layers\n",
    "dense1 = Layer_Dense(2, 3) # 2 inputs/features, 3 outputs\n",
    "activation1 = Activation_ReLu() # 3 inputs, 3 outputs (activation functions dont return different number of outputs, since they're not based on neurons)\n",
    "dense2 = Layer_Dense(3, 3) # 3 inputs, 3 outputs\n",
    "activation2 = Activation_SoftMax() # 3 inputs, 3 outputs (final)\n",
    "\n",
    "# Passing data through these hidden layers\n",
    "dense1.forward(X)\n",
    "activation1.forward(dense1.output) \n",
    "dense2.forward(activation1.output)\n",
    "activation2.forward(dense2.output) # Output layer\n",
    "\n",
    "print(\"Outputs (probability of the color): \")\n",
    "print(activation2.output[:5]) # Final output! (First 5 rows)\n",
    "# Represents proabilities of each data point being red, blue, or green! (Right now all random/similar, since model isnt trained - we havent used training data colors to understand the pattern)"
   ]
  },
  {
   "cell_type": "markdown",
   "metadata": {},
   "source": [
    "<hr>\n",
    "<h2>Part 8</h2>\n",
    "Loss and Accuracy"
   ]
  },
  {
   "cell_type": "markdown",
   "metadata": {},
   "source": [
    "<h3>Loss</h3>\n",
    "Creating a Loss Class to calculate loss based on the actual and predicted outputs. (We'll work towards reducing this loss later)"
   ]
  },
  {
   "cell_type": "markdown",
   "metadata": {},
   "source": [
    "<h3>Categorical Cross Entropy Loss</h3>\n",
    "\n",
    "Used popularly for classification tasks, where the outputs are predictions. \n",
    "\n",
    "The equation is:\n",
    "\n",
    "$$ \\sum (actual)*-log(predicted) $$\n",
    "\n",
    "Basically if one data point is actually blue, the actual output would be [0 1 0] and if the predicted is [0.1, 0.7, 0.2], then the loss for it owuld be -log(0.7), because that's the only one that would remain after others are multiplied by 0.\n",
    "\n",
    "So, really, this is is just:\n",
    "$$ -log(x) $$\n",
    "\n",
    "<center>\n",
    "where x = probability given to the ACTUAL output<br><br>\n",
    "<img src=\"images/8.1.png\" width=\"500px\">\n",
    "</center><br>\n",
    "\n",
    "Ultimately an average is taken of the losses in each data point.\n",
    "<br><br>\n",
    "\n",
    "\n",
    "<i>Note: There are multipe others ways to calculate loss. For example with normal regression, <b>Mean Squared Error Loss</b> for each data point just subtracts the actual and predicted output, then squares it.</i>\n"
   ]
  },
  {
   "cell_type": "code",
   "execution_count": 20,
   "metadata": {},
   "outputs": [],
   "source": [
    "predicted_outputs = np.array([[0.7, 0.1, 0.2],\n",
    " [0.1, 0.5, 0.4],\n",
    " [0.02, 0.9, 0.08]])"
   ]
  },
  {
   "cell_type": "code",
   "execution_count": 21,
   "metadata": {},
   "outputs": [
    {
     "name": "stdout",
     "output_type": "stream",
     "text": [
      "[0.7 0.5 0.9]\n",
      "Array to go through each row: [0 1 2]\n",
      "[0.7 0.5 0.9]\n"
     ]
    }
   ],
   "source": [
    "### CASE 1 ###\n",
    "\n",
    "# One method of receiving y is through categorical labels, where each category is given a label, and a single array is sent\n",
    "\n",
    "y_categorical_labels = [0, 1, 1] # So actual colors here for each data point are Red, Blue, and Blue respectively.\n",
    "\n",
    "# We're selecting the (row, column) from the predicted_outputs, but doing it three times by using an array\n",
    "# So we select (0,0), (1,1), and (2,1)... and are returned all these values in an array\n",
    "\n",
    "# So we go through each row, and select the correct column to get an array of all correct prediction probabilities\n",
    "print(predicted_outputs[[0, 1, 2], [0, 1, 1]]) \n",
    "\n",
    "# [0, 1, 2] is just to go through each row..\n",
    "print(f\"Array to go through each row: {np.array(range(len(predicted_outputs)))}\") # range of the length does the same job.. taking range of the number of rows.\n",
    "\n",
    "# So, we can do this instead:\n",
    "print(predicted_outputs[range(len(predicted_outputs)), y_categorical_labels]) "
   ]
  },
  {
   "cell_type": "code",
   "execution_count": 22,
   "metadata": {},
   "outputs": [],
   "source": [
    "### CASE 2 ###\n",
    "\n",
    "# We may also receive y through one hot encoding \n",
    "# (Entire matrix is returned.. actual value in each row is labelled 1, rest are all labelled 0\n",
    "\n",
    "y_one_hot_encoded = np.array([\n",
    "    [1, 0, 0],\n",
    "    [0, 1, 0],\n",
    "    [0, 1, 0] # One Hot Encoded version for the same output as y_categorical_labls above!\n",
    "])"
   ]
  },
  {
   "cell_type": "code",
   "execution_count": 23,
   "metadata": {},
   "outputs": [
    {
     "name": "stdout",
     "output_type": "stream",
     "text": [
      "[[0.7 0.  0. ]\n",
      " [0.  0.5 0. ]\n",
      " [0.  0.9 0. ]]\n",
      "\n",
      "\n",
      "[0.7 0.5 0.9]\n"
     ]
    }
   ],
   "source": [
    "# np.dot leads to matrix multiplication, just using * leads to each corresponding element to be multiplied like in matrix addition/subtraction\n",
    "element_wise_multiplied = y_one_hot_encoded*predicted_outputs\n",
    "print(element_wise_multiplied) # Only correct values remain\n",
    "print(\"\\n\")\n",
    "# Now converting to similar 1-d array as before...\n",
    "# Summing all values in each row, when they'll all be 0 except the actual one. So we get the same output as in case 1\n",
    "print(np.sum(element_wise_multiplied, axis=1)) # Note that we wanted 1d array so didnt use \"keepdims=True\"\n"
   ]
  },
  {
   "cell_type": "code",
   "execution_count": 24,
   "metadata": {},
   "outputs": [],
   "source": [
    "class Loss_CategoricalCrossEntropy:\n",
    "    def individual_losses(self, y_pred, y_actual):\n",
    "        \n",
    "        y_pred = np.clip(y_pred, 1e-7, 1 - 1e-7) # Any values less than 0.0000001 or greater than 0.9999999(i.e. 1-0.0000001) will be set to these limits.\n",
    "        # If any prediction is exactly 0, our log becomes infinite/undefined, and if its 1, our log becomes 0, which are both problematic.. so we switch them to very close values\n",
    "\n",
    "        ### CASE 1 ###\n",
    "        if len(y_actual.shape) == 1: # If given as 1-d categorical_labels array\n",
    "            correct_probabilities = y_pred[range(len(y_pred)), y_actual] # Same as done in case 1 above\n",
    "            return -1*np.log(correct_probabilities)\n",
    "        \n",
    "        ### CASE 2 ###\n",
    "        elif len(y_actual.shape) == 2: # If given as 2-d one-hot-encoded matrix\n",
    "            element_wise_multiplied = y_actual*y_pred\n",
    "            correct_probabilities = np.sum(element_wise_multiplied, axis=1) # Same as done in case 2 above\n",
    "            return -1*np.log(correct_probabilities)\n",
    "\n",
    "    # Gives final loss\n",
    "    def loss(self, y_pred, y_actual):\n",
    "          losses_arr = self.individual_losses(y_pred, y_actual)\n",
    "          return np.mean(losses_arr)           "
   ]
  },
  {
   "cell_type": "markdown",
   "metadata": {},
   "source": [
    "<h3>Accuracy Function</h3>\n",
    "Much simpler calculation where we just check how many of our predictions were correct!<br>\n",
    "In this case, we arent utilizing the probability that our model gave for the correct color, as long as it just guess right (gave highest probability to the correct color, no matter what that probability was)"
   ]
  },
  {
   "cell_type": "code",
   "execution_count": 34,
   "metadata": {},
   "outputs": [],
   "source": [
    "class Accuracy:\n",
    "    def calculate(self, y_pred, y_actual):\n",
    "        if len(y_actual.shape) == 1: # Case 1: Category labelled in 1D dont need to change anything there\n",
    "            predictions = np.argmax(y_pred, axis=1) # Takes the index of the maximum value i.e. the category given max probability\n",
    "            return np.mean(predictions == y_actual)\n",
    "\n",
    "        if len(y_actual.shape) == 2: # One hot encoded in 2D\n",
    "            y_actual = np.argmax(y_actual, axis=1) # In THIS CASE, argmax is used for a different purpose, to first convert the 2D matrix to 1D, where index value for the 1 in each row is taken...\n",
    "            predictions = np.argmax(y_pred, axis=1)\n",
    "            return np.mean(predictions == y_actual)\n"
   ]
  },
  {
   "cell_type": "code",
   "execution_count": 51,
   "metadata": {},
   "outputs": [
    {
     "name": "stdout",
     "output_type": "stream",
     "text": [
      "Loss: 0.38506088005216804\n",
      "Accuracy: 1.0\n"
     ]
    }
   ],
   "source": [
    "# Using the Loss class AND accuracy function we made!! (Simple example to check)\n",
    "\n",
    "y_pred = np.array([[0.7, 0.1, 0.2],\n",
    " [0.1, 0.5, 0.4],\n",
    " [0.02, 0.9, 0.08]])\n",
    "\n",
    "# Creating both formats of y_actual to see if the functions work with both! Can also switch the one used below for each... We'll get the same outputs!\n",
    "y_actual_1d = np.array([0, 1, 1])\n",
    "y_actual_2d = np.array([[1, 0, 0],\n",
    " [0, 1, 0],\n",
    " [0, 1, 0]])\n",
    "\n",
    "\n",
    "loss_function = Loss_CategoricalCrossEntropy()\n",
    "loss = loss_function.loss(y_pred, y_actual_2d)\n",
    "print(f\"Loss: {loss}\")\n",
    "\n",
    "accuracy_function = Accuracy()\n",
    "accuracy = accuracy_function.calculate(y_pred, y_actual_1d)\n",
    "print(f\"Accuracy: {accuracy}\") # Accurayc is just 1 as long as all are guessed correctly... this doesnt tell us as much as the loss function does, which is why we use THAT for optimization when training the model!\n"
   ]
  },
  {
   "cell_type": "code",
   "execution_count": 52,
   "metadata": {},
   "outputs": [
    {
     "name": "stdout",
     "output_type": "stream",
     "text": [
      "Outputs (probability of the color): \n",
      "[[0.33333334 0.33333334 0.33333334]\n",
      " [0.33333334 0.33333334 0.33333334]\n",
      " [0.33333334 0.33333334 0.33333334]\n",
      " [0.33333334 0.33333334 0.33333334]\n",
      " [0.33333334 0.33333334 0.33333334]]\n",
      "\n",
      "\n",
      "Array of loss at each data point (first 5): [1.0986123 1.0986123 1.0986123 1.0986123 1.0986123]\n",
      "Final Categorical Cross Entropy Loss: 1.0986149311065674\n",
      "\n",
      "\n",
      "Accuracy: 0.30333333333333334\n"
     ]
    }
   ],
   "source": [
    "### Going through full forward pass AND calculating loss + accuracy\n",
    "\n",
    "X, y = spiral_data(samples=100, classes=3)\n",
    "\n",
    "# Creating Layers\n",
    "dense1 = Layer_Dense(2, 3) # 2 features, 3 outputs\n",
    "activation1 = Activation_ReLu() # 3 inputs, 3 outputs\n",
    "dense2 = Layer_Dense(3, 3) # 3 inputs, 3 outputs\n",
    "activation2 = Activation_SoftMax() # 3 inputs, 3 outputs (final)\n",
    "\n",
    "# Passing data through the layers\n",
    "dense1.forward(X)\n",
    "activation1.forward(dense1.output) \n",
    "dense2.forward(activation1.output)\n",
    "activation2.forward(dense2.output) # Output layer\n",
    "\n",
    "predictions = activation2.output\n",
    "\n",
    "print(\"Outputs (probability of the color): \")\n",
    "print(predictions[:5]) # Final output! (First 5 rows) Red, Blue, or Green? (In that order)\n",
    "print(\"\\n\")\n",
    "\n",
    "\n",
    "# Calculating Loss\n",
    "loss_function = Loss_CategoricalCrossEntropy()\n",
    "individual_losses = loss_function.individual_losses(predictions, y) # Gives entire array of loss for each data point\n",
    "print(f\"Array of loss at each data point (first 5): {individual_losses[:5]}\")\n",
    "\n",
    "# Gives overall average loss (ulimtately used in gradient descent or some other form of opimtization... This average loss is what we try to reduce!)\n",
    "final_loss = loss_function.loss(predictions, y)\n",
    "print(f\"Final Categorical Cross Entropy Loss: {final_loss}\")\n",
    "print(\"\\n\")\n",
    "# Calculating accuracy\n",
    "\n",
    "accuracy_function = Accuracy()\n",
    "final_accuracy = accuracy_function.calculate(predictions, y)\n",
    "print(f\"Accuracy: {final_accuracy}\")\n",
    "\n"
   ]
  },
  {
   "cell_type": "markdown",
   "metadata": {},
   "source": [
    "<hr>\n",
    "<h2>Part 9</h2>"
   ]
  }
 ],
 "metadata": {
  "kernelspec": {
   "display_name": "Python 3",
   "language": "python",
   "name": "python3"
  },
  "language_info": {
   "codemirror_mode": {
    "name": "ipython",
    "version": 3
   },
   "file_extension": ".py",
   "mimetype": "text/x-python",
   "name": "python",
   "nbconvert_exporter": "python",
   "pygments_lexer": "ipython3",
   "version": "3.11.7"
  }
 },
 "nbformat": 4,
 "nbformat_minor": 2
}
