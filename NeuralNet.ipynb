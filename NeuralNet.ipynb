{
 "cells": [
  {
   "cell_type": "markdown",
   "metadata": {},
   "source": [
    "# Building a Neural Network from Scratch!\n",
    "(Built on the fundamental math behind Machine Learning. NOT just 10 lines of Tensorflow, as much fun as that is.)<br>\n",
    "Credits: MIT PhD candidate Dr. Raj Dandekar's notes<br><br>\n",
    "Code written by me, images taken directly from his notes.<br>\n",
    "<hr>"
   ]
  },
  {
   "cell_type": "markdown",
   "metadata": {},
   "source": [
    "<h2>Part 1</h2>"
   ]
  },
  {
   "cell_type": "markdown",
   "metadata": {},
   "source": [
    "<h3> First neuron </h3>\n",
    "<img src=\"images/1.1.png\">"
   ]
  },
  {
   "cell_type": "code",
   "execution_count": null,
   "metadata": {},
   "outputs": [
    {
     "ename": "",
     "evalue": "",
     "output_type": "error",
     "traceback": [
      "\u001b[1;31mRunning cells with 'Python 3.12.6' requires the ipykernel package.\n",
      "\u001b[1;31mRun the following command to install 'ipykernel' into the Python environment. \n",
      "\u001b[1;31mCommand: '/opt/homebrew/bin/python3 -m pip install ipykernel -U --user --force-reinstall'"
     ]
    }
   ],
   "source": [
    "inputs = [1, 2, 3]\n",
    "weights = [0.2, 0.8, -0.5]\n",
    "bias = 2\n",
    "\n",
    "output = (inputs[0]*weights[0]) + (inputs[1]*weights[1]) + (inputs[2]*weights[2]) + bias\n",
    "\n",
    "print(\"Output: \" + str(output))\n",
    "# The ultimate goal is to come up with the RIGHT weights for each calculation (neuron)\n",
    "# And then, structure them in the right way (network of neurons)."
   ]
  },
  {
   "cell_type": "markdown",
   "metadata": {},
   "source": [
    "<h3>First <u>Layer</u> of Neurons</h3>\n",
    "<img src=\"images/1.2.png\">"
   ]
  },
  {
   "cell_type": "code",
   "execution_count": 96,
   "metadata": {},
   "outputs": [],
   "source": [
    "# Set up\n",
    "inputs = [1, 2, 3]\n",
    "weights = [[0.2, 0.8, -0.5],\n",
    "           [0.5, -0.91, 0.26],\n",
    "           [-0.26, -0.27, 0.17],\n",
    "           ]\n",
    "biases = [2, 3, 0.5]"
   ]
  },
  {
   "cell_type": "code",
   "execution_count": null,
   "metadata": {},
   "outputs": [],
   "source": [
    "# Hard coded, WITHOUT loops, just to understand the concept\n",
    "weights1 = weights[0]\n",
    "weights2 = weights[1]\n",
    "weights3 = weights[2]\n",
    "\n",
    "outputs = [\n",
    "    (inputs[0]*weights1[0] + inputs[1]*weights1[1] + inputs[2]*weights1[2] + biases[0]), # neuron 1\n",
    "    (inputs[0]*weights2[0] + inputs[1]*weights2[1] + inputs[2]*weights2[2] + biases[1]), # neuron 2\n",
    "    (inputs[0]*weights3[0] + inputs[1]*weights3[1] + inputs[2]*weights3[2] + biases[2]), # neuron 3\n",
    "]\n",
    "\n",
    "print(\"Outputs: \" + str(outputs))"
   ]
  },
  {
   "cell_type": "code",
   "execution_count": null,
   "metadata": {},
   "outputs": [],
   "source": [
    "# WITH a loop, for actual use (any number of neurons, layers, inputs, etc.)\n",
    "\n",
    "outputs = []\n",
    "for neuron_weights, neuron_bias in zip(weights, biases): \n",
    "    # zip() allows parallel looping, to access items in different lists, ideally of the same size\n",
    "    output = neuron_bias\n",
    "    \n",
    "    for input, weight in zip(inputs, neuron_weights):\n",
    "        output += input*weight\n",
    "    \n",
    "    outputs.append(output)\n",
    "\n",
    "print(\"Outputs: \" + str(outputs))"
   ]
  },
  {
   "cell_type": "markdown",
   "metadata": {},
   "source": [
    "<hr>\n",
    "<h2> Part 2 </h2>\n"
   ]
  },
  {
   "cell_type": "markdown",
   "metadata": {},
   "source": [
    "<h3>Single neuron <u>with np.dot</u></h3>"
   ]
  },
  {
   "cell_type": "code",
   "execution_count": null,
   "metadata": {},
   "outputs": [],
   "source": [
    "import numpy as np\n",
    "\n",
    "inputs = [1, 2, 3]\n",
    "weights = [0.2, 0.8, -0.5]\n",
    "bias = 2\n",
    "\n",
    "output = np.dot(inputs, weights) + bias\n",
    "print(\"Output: \" + str(output))"
   ]
  },
  {
   "cell_type": "markdown",
   "metadata": {},
   "source": [
    "<h3>Entire layer <u>with np.dot</u></h3>\n",
    "\n",
    "Using Matrix-Vector multiplication!\n",
    "\n",
    "<img src=\"images/2.1.png\" width=\"600px\">"
   ]
  },
  {
   "cell_type": "code",
   "execution_count": null,
   "metadata": {},
   "outputs": [],
   "source": [
    "# Set up (same as part 1)\n",
    "inputs = [1, 2, 3]\n",
    "weights = [[0.2, 0.8, -0.5],\n",
    "           [0.5, -0.91, 0.26],\n",
    "           [-0.26, -0.27, 0.17],\n",
    "            ]\n",
    "biases = [2, 3, 0.5]\n",
    "\n",
    "outputs = np.dot(weights, inputs) + biases # Each row of weights is multiplied by inputs column, exactly how weights are used \n",
    "print(\"Outputs: \" + str(outputs))\n",
    "\n",
    "# ENTIRE code in part 1 with a loop, is replaced by just ONE line!! SO COOL."
   ]
  },
  {
   "cell_type": "markdown",
   "metadata": {},
   "source": [
    "<h3>Complete batch of data <u>with np.dot</u></h3>\n",
    "\n",
    "With matrix-matrix multiplication\n",
    "\n",
    "<img src=\"images/2.2.png\" width=\"600px\">"
   ]
  },
  {
   "cell_type": "code",
   "execution_count": null,
   "metadata": {},
   "outputs": [],
   "source": [
    "# each row represents the inputs for one specific neuron\n",
    "inputs = [[1, 2, 3, 2.5], \n",
    "          [2, 5, -1, 2],\n",
    "          [-1.5, 2.7, 3.3, -0.8]]\n",
    "\n",
    "\n",
    "# Each row represents the weights for one specific neuron... \n",
    "# Later transposed to make sense in sync with how matrix multiplication works - \n",
    "# - each row of matrix A multiplied with each COLUMN of matrix B\n",
    "weights = [[0.2, 0.8, -0.5, 1], \n",
    "           [0.5, -0.91, 0.26, -0.5],\n",
    "           [-0.26, -0.27, 0.17, 0.87]]\n",
    "\n",
    "biases = [2, 3, 0.5]\n",
    "\n",
    "weights = np.array(weights) # np.dot doesnt take lists, so must convert to array\n",
    "\n",
    "outputs = np.dot(inputs, weights.T) + biases # The bias just adds the number to every item in that column.\n",
    "\n",
    "print(\"Outputs: \\n\" + str(outputs))\n"
   ]
  },
  {
   "cell_type": "markdown",
   "metadata": {},
   "source": [
    "<hr>\n",
    "<h2>Part 3</h2>\n",
    "Starting now!"
   ]
  }
 ],
 "metadata": {
  "kernelspec": {
   "display_name": "Python 3",
   "language": "python",
   "name": "python3"
  },
  "language_info": {
   "codemirror_mode": {
    "name": "ipython",
    "version": 3
   },
   "file_extension": ".py",
   "mimetype": "text/x-python",
   "name": "python",
   "nbconvert_exporter": "python",
   "pygments_lexer": "ipython3",
   "version": "3.12.6"
  }
 },
 "nbformat": 4,
 "nbformat_minor": 2
}
